{
 "cells": [
  {
   "cell_type": "code",
   "execution_count": null,
   "id": "0cc4bb67",
   "metadata": {},
   "outputs": [],
   "source": [
    "import spotipy\n",
    "from spotipy.oauth2 import SpotifyOAuth"
   ]
  },
  {
   "cell_type": "code",
   "execution_count": null,
   "id": "f58de68c",
   "metadata": {},
   "outputs": [],
   "source": [
    "client_id = \"your_client_id\"\n",
    "client_secret = \"your_client_password\"\n",
    "username = \"username\"\n",
    "playlist_name = \"playlist_name\"\n"
   ]
  },
  {
   "cell_type": "code",
   "execution_count": null,
   "id": "93bebf80",
   "metadata": {},
   "outputs": [],
   "source": [
    "file_path = \"sings.txt\""
   ]
  },
  {
   "cell_type": "code",
   "execution_count": null,
   "id": "d5c8bf74",
   "metadata": {},
   "outputs": [],
   "source": [
    "scope = \"playlist-modify-public\"\n",
    "sp = spotipy.Spotify(auth_manager=SpotifyOAuth(client_id=client_id, client_secret=client_secret, redirect_uri=\"https://www.google.com\", scope=scope, username=username))\n",
    "\n",
    "\n",
    "playlist = sp.user_playlist_create(user=username, name=playlist_name)\n",
    "\n",
    "#Read tect file\n",
    "with open(file_path, \"r\") as file:\n",
    "    song_titles = [line.strip() for line in file if line.strip()]\n",
    "\n",
    "# Add the songs to the playlist\n",
    "for title in song_titles:\n",
    "    result = sp.search(q=title, type=\"track\")\n",
    "    if len(result['tracks']['items']) > 0:\n",
    "        track = result['tracks']['items'][0]['uri']\n",
    "        sp.playlist_add_items(playlist['uri'], [track])\n"
   ]
  }
 ],
 "metadata": {
  "kernelspec": {
   "display_name": "Python 3 (ipykernel)",
   "language": "python",
   "name": "python3"
  },
  "language_info": {
   "codemirror_mode": {
    "name": "ipython",
    "version": 3
   },
   "file_extension": ".py",
   "mimetype": "text/x-python",
   "name": "python",
   "nbconvert_exporter": "python",
   "pygments_lexer": "ipython3",
   "version": "3.7.1"
  }
 },
 "nbformat": 4,
 "nbformat_minor": 5
}
